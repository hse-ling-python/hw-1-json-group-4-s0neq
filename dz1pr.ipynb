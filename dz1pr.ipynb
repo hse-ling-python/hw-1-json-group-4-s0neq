{
 "cells": [
  {
   "cell_type": "markdown",
   "metadata": {},
   "source": [
    "# Генералова Софья БКЛ184\n",
    "## ДЗ 1\n",
    "### Сначала загружаю модуль для проверки пепа и другие"
   ]
  },
  {
   "cell_type": "code",
   "execution_count": 1,
   "metadata": {},
   "outputs": [],
   "source": [
    "%load_ext pycodestyle_magic\n",
    "%pycodestyle_on\n",
    "import json, re, string"
   ]
  },
  {
   "cell_type": "markdown",
   "metadata": {},
   "source": [
    "### Укажите путь к файлу json (вида: C:\\Users\\Hey\\Desktop\\hw_3_twitter.json)"
   ]
  },
  {
   "cell_type": "code",
   "execution_count": 2,
   "metadata": {},
   "outputs": [
    {
     "name": "stdout",
     "output_type": "stream",
     "text": [
      "введите путь к файлу: C:\\Users\\Asus\\Desktop\\proga2year_dz1\\hw_3_twitter.json\n"
     ]
    }
   ],
   "source": [
    "file = input('введите путь к файлу: ')"
   ]
  },
  {
   "cell_type": "markdown",
   "metadata": {},
   "source": [
    "### Из файла по строкам добавляю в список, переводя по пути джейсон-строку в объекты питона."
   ]
  },
  {
   "cell_type": "code",
   "execution_count": 3,
   "metadata": {},
   "outputs": [],
   "source": [
    "twitter = []\n",
    "for line in open(file, encoding='utf-8'):\n",
    "    twitter.append(json.loads(line))"
   ]
  },
  {
   "cell_type": "markdown",
   "metadata": {},
   "source": [
    "# задание 1\n",
    "## Сколько твитов в наборе?\n",
    "### для этого считаем сколько объектов лежит в списке twitter"
   ]
  },
  {
   "cell_type": "code",
   "execution_count": 4,
   "metadata": {},
   "outputs": [
    {
     "name": "stdout",
     "output_type": "stream",
     "text": [
      "ОТВЕТ: 2556\n"
     ]
    }
   ],
   "source": [
    "tw_len = len(twitter)\n",
    "print('ОТВЕТ:', tw_len)"
   ]
  },
  {
   "cell_type": "markdown",
   "metadata": {},
   "source": [
    "# задание 2\n",
    "## Какой процент твитов составляют удаленные записи?\n",
    "### прохожу по списку, прибавляю к счетчику +1, если встречаю key 'delete'"
   ]
  },
  {
   "cell_type": "code",
   "execution_count": 5,
   "metadata": {
    "scrolled": true
   },
   "outputs": [
    {
     "name": "stdout",
     "output_type": "stream",
     "text": [
      "кол-во удаленных твитов: 362\n"
     ]
    }
   ],
   "source": [
    "c = 0  # счетчик\n",
    "for tw in twitter:\n",
    "    if tw.get(\"delete\"):\n",
    "        c += 1\n",
    "\n",
    "print('кол-во удаленных твитов:', c)"
   ]
  },
  {
   "cell_type": "markdown",
   "metadata": {},
   "source": [
    "### теперь считаю их процент от всех твитов"
   ]
  },
  {
   "cell_type": "code",
   "execution_count": 6,
   "metadata": {
    "scrolled": true
   },
   "outputs": [
    {
     "name": "stdout",
     "output_type": "stream",
     "text": [
      "ОТВЕТ: доля удаленных твитов в наборе: 14.162754303599373\n"
     ]
    }
   ],
   "source": [
    "dolya_d = c / tw_len * 100\n",
    "\n",
    "print('ОТВЕТ: доля удаленных твитов в наборе:', dolya_d)"
   ]
  },
  {
   "cell_type": "code",
   "execution_count": 7,
   "metadata": {},
   "outputs": [],
   "source": [
    "from collections import Counter"
   ]
  },
  {
   "cell_type": "markdown",
   "metadata": {},
   "source": [
    "# задание 3\n",
    "## Какие самые популярные языки твитов? ТОП 15\n",
    "### прохожу по списку с твитами, для каждого сохраняю язык в список. делаю частотный словарь  "
   ]
  },
  {
   "cell_type": "code",
   "execution_count": 8,
   "metadata": {},
   "outputs": [
    {
     "name": "stdout",
     "output_type": "stream",
     "text": [
      "ОТВЕТ\n",
      "top 15 languages\n",
      "\n",
      "en 719\n",
      "ja 438\n",
      "es 173\n",
      "ko 149\n",
      "th 123\n",
      "ar 119\n",
      "und 117\n",
      "in 71\n",
      "pt 69\n",
      "fr 35\n",
      "tr 30\n",
      "tl 29\n",
      "hi 23\n",
      "ru 15\n",
      "fa 8\n"
     ]
    }
   ],
   "source": [
    "# 3 самые популярные (15 sht) языки твитов?\n",
    "langs = []\n",
    "for tw in twitter:\n",
    "    if tw.get('lang'):\n",
    "        langs.append(tw.get('lang'))\n",
    "\n",
    "langsort = Counter(langs)\n",
    "# 15 most common langs\n",
    "print('ОТВЕТ')\n",
    "print('top 15 languages\\n')\n",
    "for key, val in langsort.most_common(15):\n",
    "    print(key, val)"
   ]
  },
  {
   "cell_type": "markdown",
   "metadata": {},
   "source": [
    "# задание 4\n",
    "## Есть ли твиты от одного и того же пользователя? Если да, то сколько таких пользователей?\n",
    "### у ретвитов с комментариями атрибут quoted_status, у просто ретвитов retweeted_status\n",
    "### в этом задании я считаю авторов твитов из обоих видов ретвитов, а также из удаленных твитов, и, естественно, из твитов-не ретвитов"
   ]
  },
  {
   "cell_type": "code",
   "execution_count": 9,
   "metadata": {
    "scrolled": true
   },
   "outputs": [
    {
     "name": "stdout",
     "output_type": "stream",
     "text": [
      "ОТВЕТ: кол-во пользователей:  88\n"
     ]
    }
   ],
   "source": [
    "users = []\n",
    "uniq_user = 0\n",
    "for tw in twitter:\n",
    "    if tw.get('retweeted_status'):\n",
    "        # add orig tw author\n",
    "        users.append(tw['retweeted_status']['user']['id_str'])\n",
    "    elif tw.get('quoted_status'):\n",
    "        # add orig tw author\n",
    "        users.append(tw['quoted_status']['user']['id_str'])\n",
    "    elif tw.get('user'):\n",
    "        users.append(tw['user']['id_str'])  # для не ретвитов\n",
    "    else:\n",
    "        users.append(tw['delete']['status']['user_id_str'])  # авт из удал тв\n",
    "usersort = Counter(users)\n",
    "# перебираю пары ключ-значение в отсортированном по убыванию значения словаре\n",
    "# прибавляю к счетчику 1, если значение больше 1\n",
    "# как только встречается значение 1 можно останавливать перебор\n",
    "for key, val in usersort.most_common():\n",
    "    if val == 1:\n",
    "        break\n",
    "    else:\n",
    "        uniq_user += 1\n",
    "print('ОТВЕТ: кол-во пользователей: ', uniq_user)"
   ]
  },
  {
   "cell_type": "markdown",
   "metadata": {},
   "source": [
    "# задание 5\n",
    "## Топ-20 хэштегов\n",
    "### если есть атрибут энтитис, а в нем не пустой список хэштегов, то из каждого элемента в списке хэштегов по ключу 'text' достаю текст хэштега и добавляю в список. потом делаю частотный словарь"
   ]
  },
  {
   "cell_type": "code",
   "execution_count": 10,
   "metadata": {
    "scrolled": true
   },
   "outputs": [
    {
     "name": "stdout",
     "output_type": "stream",
     "text": [
      "ОТВЕТ:\n",
      "top 20 hashtags:\n",
      "\n",
      "BTS 17\n",
      "방탄소년단 13\n",
      "AMAs 11\n",
      "人気投票ガチャ 8\n",
      "태형 7\n",
      "뷔 6\n",
      "BTSinChicago 5\n",
      "BTSLoveYourselfTour 5\n",
      "오늘의방탄 5\n",
      "PledgeForSwachhBharat 5\n",
      "MPN 5\n",
      "PCAs 4\n",
      "V 4\n",
      "시카고1회차공연 4\n",
      "เป๊กผลิตโชค 4\n",
      "JIMIN 4\n",
      "running 3\n",
      "NCT 3\n",
      "지민 3\n",
      "WajahmuPlastik 3\n"
     ]
    }
   ],
   "source": [
    "# 5 20 hashtags\n",
    "hashtags = []\n",
    "for tw in twitter:\n",
    "    if tw.get('entities'):\n",
    "        if len(tw['entities']['hashtags']) != 0:\n",
    "            for tag in tw['entities']['hashtags']:\n",
    "                hashtags.append(tag['text'])\n",
    "hashtagsort = Counter(hashtags)\n",
    "h = hashtagsort.most_common()\n",
    "print('ОТВЕТ:')\n",
    "print('top 20 hashtags:')\n",
    "print()\n",
    "for i in range(20):\n",
    "    print(h[i][0], h[i][1])"
   ]
  },
  {
   "cell_type": "markdown",
   "metadata": {},
   "source": [
    "# задание 6\n",
    "## Предобработать тексты оригинальных твитов (не ретвитов) на английском языке (убрать пунктуацию, привести к нижнему регистру) и составить частотный словарь\n",
    "### прохожу по списку твитов, сначала проверяю, что язык англ\n",
    "### потом проверяю, сокращен ли текст в атрибуте 'text', если да, то иду в 'full_text'\n",
    "### если это ретвит, то пропускаю"
   ]
  },
  {
   "cell_type": "code",
   "execution_count": 11,
   "metadata": {},
   "outputs": [
    {
     "name": "stdout",
     "output_type": "stream",
     "text": [
      "ОТВЕТ:\n",
      "top 20 самых частотных слов:\n",
      "\n",
      "the 134\n",
      "to 96\n",
      "a 74\n",
      "and 69\n",
      "i 67\n",
      "you 53\n",
      "of 51\n",
      "is 50\n",
      "it 49\n",
      "for 44\n",
      "in 43\n",
      "that 35\n",
      "on 30\n",
      "me 30\n",
      "my 27\n",
      "be 25\n",
      "this 22\n",
      "are 22\n",
      "your 21\n",
      "but 21\n"
     ]
    }
   ],
   "source": [
    "# 6 частотный словарь слов в ориг твитах\n",
    "\n",
    "origs = []\n",
    "for tw in twitter:\n",
    "    if tw.get('lang') == 'en':\n",
    "        if tw.get('retweeted_status'):\n",
    "            continue\n",
    "        elif tw.get('quoted_status'):\n",
    "            continue\n",
    "        elif tw.get('delete'):\n",
    "            continue\n",
    "        else:\n",
    "            if tw['truncated']:\n",
    "                t = tw['extended_tweet']['full_text']\n",
    "            else:\n",
    "                t = tw['text']\n",
    "\n",
    "        r = re.sub(r'http\\S+', '', t)  # чистка от ссылок\n",
    "        rr = re.sub(r'#[^\\S]+', '', r)  # чистка от хэштегов\n",
    "        # чистка от пунктуации\n",
    "        res = re.sub(\"[\" + re.escape(string.punctuation) + \"]\", \"\", rr)\n",
    "        # понижение регистра\n",
    "        res1 = res.lower()\n",
    "        # делю на слова по пробельным символам и прибавляю их в список\n",
    "        origs += res1.split()\n",
    "origsort = Counter(origs)\n",
    "print('ОТВЕТ:')\n",
    "print('top 20 самых частотных слов:')\n",
    "print()\n",
    "for key, val in origsort.most_common(20):\n",
    "    print(key, val)"
   ]
  },
  {
   "cell_type": "markdown",
   "metadata": {},
   "source": [
    "# задание 7\n",
    "## Найти количество подписчиков (фолловеров) у авторов твитов и вывести топ-10 ( то есть самое большое кол-во подписчиков и дальше по убыванию)\n",
    "### для каждого твита добавляю кол-во подписчиков внутрь множества, потом множество преобразовываю в список, сортирую его по убыванию"
   ]
  },
  {
   "cell_type": "code",
   "execution_count": 12,
   "metadata": {},
   "outputs": [
    {
     "name": "stdout",
     "output_type": "stream",
     "text": [
      "ОТВЕТ:\n",
      "top 10: САМОЕ БОЛЬШОЕ КОЛ-ВО ПОДПИСЧИКОВ:\n",
      "\n",
      "2521403\n",
      "1491309\n",
      "1206759\n",
      "1137374\n",
      "625463\n",
      "392472\n",
      "383698\n",
      "374222\n",
      "318189\n",
      "311319\n"
     ]
    }
   ],
   "source": [
    "followers = set()\n",
    "for tw in twitter:\n",
    "    if tw.get('user'):\n",
    "        followers.add(tw['user']['followers_count'])\n",
    "n_followers = list(followers)\n",
    "followersort = sorted(n_followers, reverse=True)\n",
    "print('ОТВЕТ:')\n",
    "print('top 10: САМОЕ БОЛЬШОЕ КОЛ-ВО ПОДПИСЧИКОВ:')\n",
    "print()\n",
    "for i in range(10):\n",
    "    print(followersort[i])"
   ]
  },
  {
   "cell_type": "markdown",
   "metadata": {},
   "source": [
    "# задание 8\n",
    "## Топ-10 источников твита (из какого приложения написан) (подсказка: для обработки используйте регулярные выражения)\n",
    "### по ключу source в значении лежит строка, из нее достаю название ресурса с помощью рег. выражений\n",
    "### потом делаю частотный список"
   ]
  },
  {
   "cell_type": "code",
   "execution_count": 13,
   "metadata": {},
   "outputs": [
    {
     "name": "stdout",
     "output_type": "stream",
     "text": [
      "ОТВЕТ:\n",
      "top 10: САМЫЕ ЧАСТОТНЫЕ ИСТОЧНИКИ:\n",
      "\n",
      "Twitter for iPhone 800\n",
      "Twitter for Android 695\n",
      "Twitter Web Client 140\n",
      "twittbot.net 122\n",
      "Twitter Lite 51\n",
      "Twitter for iPad 28\n",
      "TweetDeck 23\n",
      "Facebook 17\n",
      "IFTTT 14\n",
      "تطبيق قرآني 10\n"
     ]
    }
   ],
   "source": [
    "# 8 Топ-10 источников твита (из какого приложения написан) regexp\n",
    "sources = []\n",
    "for tw in twitter:\n",
    "    if tw.get('source'):\n",
    "        pat = '>([^<]*)<'\n",
    "        res = re.search(pat, tw['source']).group(1)\n",
    "        sources.append(res)\n",
    "sourcesort = Counter(sources)\n",
    "\n",
    "print('ОТВЕТ:')\n",
    "print('top 10: САМЫЕ ЧАСТОТНЫЕ ИСТОЧНИКИ:')\n",
    "print()\n",
    "for key, val in sourcesort.most_common(10):\n",
    "    print(key, val)"
   ]
  },
  {
   "cell_type": "markdown",
   "metadata": {},
   "source": [
    "# СПАСИБО ЗА ВНИМАНИЕ!\n",
    "### пожалуйста, в следующий раз пишите более точные формулировки заданий"
   ]
  }
 ],
 "metadata": {
  "kernelspec": {
   "display_name": "Python 3",
   "language": "python",
   "name": "python3"
  },
  "language_info": {
   "codemirror_mode": {
    "name": "ipython",
    "version": 3
   },
   "file_extension": ".py",
   "mimetype": "text/x-python",
   "name": "python",
   "nbconvert_exporter": "python",
   "pygments_lexer": "ipython3",
   "version": "3.7.3"
  }
 },
 "nbformat": 4,
 "nbformat_minor": 2
}
